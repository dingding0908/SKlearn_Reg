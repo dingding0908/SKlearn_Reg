{
 "cells": [
  {
   "cell_type": "code",
   "execution_count": 2,
   "metadata": {
    "collapsed": true,
    "pycharm": {
     "name": "#%%\n"
    }
   },
   "outputs": [],
   "source": [
    "import rasterio\n",
    "from osgeo import gdal\n",
    "import numpy as np\n",
    "from osgeo import osr\n"
   ]
  },
  {
   "cell_type": "code",
   "execution_count": 4,
   "outputs": [
    {
     "data": {
      "text/plain": "array([[0.20455411, 0.19061646, 0.12152281, ..., 1.5441545 , 1.7427843 ,\n        1.6314082 ],\n       [0.24155286, 0.11996793, 0.09875754, ..., 1.8404377 , 1.5346193 ,\n        0.51362425],\n       [0.13464758, 0.05696604, 0.04889766, ..., 1.1394424 , 1.3415544 ,\n        0.3928216 ],\n       ...,\n       [0.9130307 , 1.0376265 , 2.1219854 , ..., 0.3671901 , 0.28756535,\n        0.43703735],\n       [0.6525149 , 0.83737385, 1.4548136 , ..., 0.57414424, 0.3944538 ,\n        0.67484957],\n       [0.52307   , 1.1647736 , 1.3697717 , ..., 1.819569  , 1.1292155 ,\n        0.6484961 ]], dtype=float32)"
     },
     "execution_count": 4,
     "metadata": {},
     "output_type": "execute_result"
    }
   ],
   "source": [
    "file_imgname = 'LAI_img_0615_clip_1002.tif'\n",
    "imgpath = r'E:\\Desktop\\20220913-20220916-0919-0923\\20220916-0921\\Sklearn回归模型规整\\训练数据\\{}'.format(file_imgname)\n",
    "src0 = gdal.Open(imgpath)\n",
    "# 获取TIFF的范围信息\n",
    "extend = src0.GetGeoTransform()\n",
    "# 读取波段信息\n",
    "img = src0.GetRasterBand(1).ReadAsArray()\n",
    "img"
   ],
   "metadata": {
    "collapsed": false,
    "pycharm": {
     "name": "#%%\n"
    }
   }
  },
  {
   "cell_type": "code",
   "execution_count": 6,
   "outputs": [
    {
     "data": {
      "text/plain": "array([[559, 557, 555, ..., 692, 780, 780],\n       [559, 557, 555, ..., 691, 780, 780],\n       [559, 557, 555, ..., 690, 780, 780],\n       ...,\n       [444, 444, 418, ..., 515, 499, 493],\n       [444, 444, 419, ..., 515, 499, 493],\n       [444, 444, 419, ..., 515, 500, 493]], dtype=int16)"
     },
     "execution_count": 6,
     "metadata": {},
     "output_type": "execute_result"
    }
   ],
   "source": [
    "# 路径GEE\n",
    "file_img1name = 'GEE_0615_clip_982.tif'\n",
    "imgpath1 = r'E:\\Desktop\\20220913-20220916-0919-0923\\20220916-0921\\Sklearn回归模型规整\\训练数据\\{}'.format(file_img1name)\n",
    "src1 = rasterio.open(imgpath1)\n",
    "rat = src1.read(1)\n",
    "rat"
   ],
   "metadata": {
    "collapsed": false,
    "pycharm": {
     "name": "#%%\n"
    }
   }
  },
  {
   "cell_type": "code",
   "execution_count": 7,
   "outputs": [],
   "source": [
    "def xy_to_rowcol(extend, x, y):\n",
    "    '''根据GDAL的六参数模型将给定的投影坐标转为影像图上坐标(行列号)\n",
    "    根据GDAL的六参数模型将给定的投影或地理坐标转为影像图上坐标(行列号)\n",
    "    :param extend: 图像的空间范围\n",
    "    :param x:投影坐标x\n",
    "    :param y:投影坐标y\n",
    "    :return:投影坐标(x, y)对应的影像图上行列号(row, col)\n",
    "'''\n",
    "    a = np.array([[extend[1], extend[2]], [extend[4], extend[5]]])\n",
    "    b = np.array([x - extend[0], y - extend[3]])\n",
    "    row_col = np.linalg.solve(a, b)  # 使用numpy的linalg. solve进行二 元一次 方程的求解\n",
    "    row = int(np.floor(row_col[1]))\n",
    "    col = int(np.floor(row_col[0]))\n",
    "    #\n",
    "    return row, col"
   ],
   "metadata": {
    "collapsed": false,
    "pycharm": {
     "name": "#%%\n"
    }
   }
  },
  {
   "cell_type": "code",
   "execution_count": 8,
   "outputs": [
    {
     "name": "stdout",
     "output_type": "stream",
     "text": [
      "602320.8531989538\n",
      "3545574.9181152456\n",
      "982\n",
      "982\n"
     ]
    }
   ],
   "source": [
    "gdal.AllRegister()\n",
    "\n",
    "filepath = imgpath1\n",
    "dataset = gdal.Open(filepath)\n",
    "adfGeoTransform = dataset.GetGeoTransform()\n",
    "\n",
    "# 左上角地理坐标\n",
    "print(adfGeoTransform[0])\n",
    "print(adfGeoTransform[3])\n",
    "\n",
    "nXSize = dataset.RasterXSize  # 列数\n",
    "nYSize = dataset.RasterYSize  # 行数\n",
    "print(nXSize)\n",
    "print(nYSize)"
   ],
   "metadata": {
    "collapsed": false,
    "pycharm": {
     "name": "#%%\n"
    }
   }
  },
  {
   "cell_type": "code",
   "execution_count": 10,
   "outputs": [
    {
     "data": {
      "text/plain": "array([[0., 0., 0., ..., 0., 0., 0.],\n       [0., 0., 0., ..., 0., 0., 0.],\n       [0., 0., 0., ..., 0., 0., 0.],\n       ...,\n       [0., 0., 0., ..., 0., 0., 0.],\n       [0., 0., 0., ..., 0., 0., 0.],\n       [0., 0., 0., ..., 0., 0., 0.]])"
     },
     "execution_count": 10,
     "metadata": {},
     "output_type": "execute_result"
    }
   ],
   "source": [
    "arrSlope = []  # 用于存储每个像素的（X，Y）坐标\n",
    "raster = np.zeros((rat.shape[0], rat.shape[1]))\n",
    "raster"
   ],
   "metadata": {
    "collapsed": false,
    "pycharm": {
     "name": "#%%\n"
    }
   }
  },
  {
   "cell_type": "code",
   "execution_count": null,
   "outputs": [],
   "source": [
    "for i in range(nYSize):\n",
    "    row = []\n",
    "    for j in range(nXSize):\n",
    "        px = adfGeoTransform[0] + i * adfGeoTransform[1] + j * adfGeoTransform[2]\n",
    "        py = adfGeoTransform[3] + i * adfGeoTransform[4] + j * adfGeoTransform[5]\n",
    "        row, col = xy_to_rowcol(extend, px, py)\n",
    "        raster[j, i] = img[row, col]\n",
    "# 重采样LAI数据，命名LAI_img_0814_clip_982.tif\n",
    "driver = gdal.GetDriverByName('GTiff')\n",
    "dst_filename = 'LAI_img_0814_clip_982.tif'\n",
    "dst_filepath = r'E:\\Desktop\\20220913-20220916-0919-0923\\20220916-0921\\Sklearn回归模型规整\\重采样LAI数据\\{}'.format(dst_filename)\n",
    "dst_ds = driver.Create(dst_filepath, rat.shape[0], rat.shape[1], 1, gdal.GDT_Float32)"
   ],
   "metadata": {
    "collapsed": false,
    "pycharm": {
     "name": "#%%\n"
    }
   }
  },
  {
   "cell_type": "code",
   "execution_count": 12,
   "outputs": [],
   "source": [
    "import pandas as pd\n",
    "import time\n",
    "import joblib\n",
    "import gdal\n",
    "from itertools import chain\n",
    "from sklearn.model_selection import train_test_split\n",
    "from sklearn import ensemble\n",
    "import numpy as np"
   ],
   "metadata": {
    "collapsed": false,
    "pycharm": {
     "name": "#%%\n"
    }
   }
  },
  {
   "cell_type": "code",
   "execution_count": 20,
   "outputs": [
    {
     "data": {
      "text/plain": "0         0.175388\n1         0.542404\n2         0.447647\n3         0.512051\n4         0.363177\n            ...   \n964319    0.503337\n964320    0.238824\n964321    0.234159\n964322    1.613273\n964323    3.208965\nName: result, Length: 964324, dtype: float32"
     },
     "execution_count": 20,
     "metadata": {},
     "output_type": "execute_result"
    }
   ],
   "source": [
    "imgpath = r\"./训练数据/LAI_img_0814_clip_982_V4.tif\"\n",
    "src0 = gdal.Open(imgpath)\n",
    "# 获取TIFF的范围信息\n",
    "extend = src0.GetGeoTransform()\n",
    "# 读取波段信息\n",
    "y_train = src0.GetRasterBand(1).ReadAsArray()\n",
    "y_0 = list(chain.from_iterable(y_train))\n",
    "datay = pd.DataFrame({'result': y_0})\n",
    "Y = datay.loc[:, ('result')]\n",
    "Y"
   ],
   "metadata": {
    "collapsed": false,
    "pycharm": {
     "name": "#%%\n"
    }
   }
  },
  {
   "cell_type": "code",
   "execution_count": 26,
   "outputs": [
    {
     "data": {
      "text/plain": "               0\n0       0.175388\n1       0.542404\n2       0.447647\n3       0.512051\n4       0.363177\n...          ...\n964319  0.503337\n964320  0.238824\n964321  0.234159\n964322  1.613273\n964323  3.208965\n\n[1928648 rows x 1 columns]",
      "text/html": "<div>\n<style scoped>\n    .dataframe tbody tr th:only-of-type {\n        vertical-align: middle;\n    }\n\n    .dataframe tbody tr th {\n        vertical-align: top;\n    }\n\n    .dataframe thead th {\n        text-align: right;\n    }\n</style>\n<table border=\"1\" class=\"dataframe\">\n  <thead>\n    <tr style=\"text-align: right;\">\n      <th></th>\n      <th>0</th>\n    </tr>\n  </thead>\n  <tbody>\n    <tr>\n      <th>0</th>\n      <td>0.175388</td>\n    </tr>\n    <tr>\n      <th>1</th>\n      <td>0.542404</td>\n    </tr>\n    <tr>\n      <th>2</th>\n      <td>0.447647</td>\n    </tr>\n    <tr>\n      <th>3</th>\n      <td>0.512051</td>\n    </tr>\n    <tr>\n      <th>4</th>\n      <td>0.363177</td>\n    </tr>\n    <tr>\n      <th>...</th>\n      <td>...</td>\n    </tr>\n    <tr>\n      <th>964319</th>\n      <td>0.503337</td>\n    </tr>\n    <tr>\n      <th>964320</th>\n      <td>0.238824</td>\n    </tr>\n    <tr>\n      <th>964321</th>\n      <td>0.234159</td>\n    </tr>\n    <tr>\n      <th>964322</th>\n      <td>1.613273</td>\n    </tr>\n    <tr>\n      <th>964323</th>\n      <td>3.208965</td>\n    </tr>\n  </tbody>\n</table>\n<p>1928648 rows × 1 columns</p>\n</div>"
     },
     "execution_count": 26,
     "metadata": {},
     "output_type": "execute_result"
    }
   ],
   "source": [
    "imgpath = r\"./重采样LAI数据/LAI_img_0615_clip_982.tif\"\n",
    "src0 = gdal.Open(imgpath)\n",
    "# 获取TIFF的范围信息\n",
    "extend = src0.GetGeoTransform()\n",
    "# 读取波段信息\n",
    "y_train01 = src0.GetRasterBand(1).ReadAsArray()\n",
    "y_1 = list(chain.from_iterable(y_train))\n",
    "datay1 = pd.DataFrame(y_1)\n",
    "Y = pd.concat([Y, datay1])\n",
    "Y"
   ],
   "metadata": {
    "collapsed": false,
    "pycharm": {
     "name": "#%%\n"
    }
   }
  },
  {
   "cell_type": "code",
   "execution_count": 27,
   "outputs": [
    {
     "data": {
      "text/plain": "        bound2  bound3  bound4  bound8\n0          442     735     766    3409\n1          233     473     315    3509\n2          189     419     213    3608\n3          199     432     228    3603\n4          285     537     373    3478\n...        ...     ...     ...     ...\n964319     382     753     458    3422\n964320     317     638     402    3613\n964321     215     525     275    3696\n964322     278     580     336    3659\n964323     345     680     468    3450\n\n[964324 rows x 4 columns]",
      "text/html": "<div>\n<style scoped>\n    .dataframe tbody tr th:only-of-type {\n        vertical-align: middle;\n    }\n\n    .dataframe tbody tr th {\n        vertical-align: top;\n    }\n\n    .dataframe thead th {\n        text-align: right;\n    }\n</style>\n<table border=\"1\" class=\"dataframe\">\n  <thead>\n    <tr style=\"text-align: right;\">\n      <th></th>\n      <th>bound2</th>\n      <th>bound3</th>\n      <th>bound4</th>\n      <th>bound8</th>\n    </tr>\n  </thead>\n  <tbody>\n    <tr>\n      <th>0</th>\n      <td>442</td>\n      <td>735</td>\n      <td>766</td>\n      <td>3409</td>\n    </tr>\n    <tr>\n      <th>1</th>\n      <td>233</td>\n      <td>473</td>\n      <td>315</td>\n      <td>3509</td>\n    </tr>\n    <tr>\n      <th>2</th>\n      <td>189</td>\n      <td>419</td>\n      <td>213</td>\n      <td>3608</td>\n    </tr>\n    <tr>\n      <th>3</th>\n      <td>199</td>\n      <td>432</td>\n      <td>228</td>\n      <td>3603</td>\n    </tr>\n    <tr>\n      <th>4</th>\n      <td>285</td>\n      <td>537</td>\n      <td>373</td>\n      <td>3478</td>\n    </tr>\n    <tr>\n      <th>...</th>\n      <td>...</td>\n      <td>...</td>\n      <td>...</td>\n      <td>...</td>\n    </tr>\n    <tr>\n      <th>964319</th>\n      <td>382</td>\n      <td>753</td>\n      <td>458</td>\n      <td>3422</td>\n    </tr>\n    <tr>\n      <th>964320</th>\n      <td>317</td>\n      <td>638</td>\n      <td>402</td>\n      <td>3613</td>\n    </tr>\n    <tr>\n      <th>964321</th>\n      <td>215</td>\n      <td>525</td>\n      <td>275</td>\n      <td>3696</td>\n    </tr>\n    <tr>\n      <th>964322</th>\n      <td>278</td>\n      <td>580</td>\n      <td>336</td>\n      <td>3659</td>\n    </tr>\n    <tr>\n      <th>964323</th>\n      <td>345</td>\n      <td>680</td>\n      <td>468</td>\n      <td>3450</td>\n    </tr>\n  </tbody>\n</table>\n<p>964324 rows × 4 columns</p>\n</div>"
     },
     "execution_count": 27,
     "metadata": {},
     "output_type": "execute_result"
    }
   ],
   "source": [
    "imgpath = r\"./训练数据/GEE_0814_clip_982.tif\"\n",
    "src1 = gdal.Open(imgpath)\n",
    "# 获取TIFF的范围信息\n",
    "extend_x = src1.GetGeoTransform()\n",
    "# 读取波段信息\n",
    "x0814_train_2 = src1.GetRasterBand(2).ReadAsArray()\n",
    "x0814_train_3 = src1.GetRasterBand(3).ReadAsArray()\n",
    "x0814_train_4 = src1.GetRasterBand(4).ReadAsArray()\n",
    "x0814_train_8 = src1.GetRasterBand(8).ReadAsArray()\n",
    "# 转为一维数组1,-1\n",
    "x_2 = list(chain.from_iterable(x0814_train_2))\n",
    "x_3 = list(chain.from_iterable(x0814_train_3))\n",
    "x_4 = list(chain.from_iterable(x0814_train_4))\n",
    "x_8 = list(chain.from_iterable(x0814_train_8))\n",
    "data = pd.DataFrame({'bound2': x_2, 'bound3': x_3, 'bound4': x_4, 'bound8': x_8})\n",
    "X = data.loc[:, ('bound2', 'bound3', 'bound4', 'bound8')]\n",
    "X"
   ],
   "metadata": {
    "collapsed": false,
    "pycharm": {
     "name": "#%%\n"
    }
   }
  },
  {
   "cell_type": "code",
   "execution_count": 2,
   "outputs": [],
   "source": [
    "imgpath = r\"./训练数据/GEE_0814_clip_982.tif\"  # 路径\n",
    "# 打开文件 rasterio.io.DatasetReader,包含了栅格的所有信息\n",
    "src1 = rasterio.open(imgpath)\n",
    "rat = src1.read()"
   ],
   "metadata": {
    "collapsed": false,
    "pycharm": {
     "name": "#%%\n"
    }
   }
  },
  {
   "cell_type": "code",
   "execution_count": 9,
   "outputs": [
    {
     "data": {
      "text/plain": "array([[ 769, 1200, 1192, ..., 2284, 2383, 2270],\n       [ 669, 1084,  832, ..., 2326, 2279, 2265],\n       [ 663, 1133,  782, ..., 2384, 2204, 2258],\n       ...,\n       [ 710, 1001, 1134, ..., 1958, 1959, 2138],\n       [ 547,  819,  780, ..., 2744, 2690, 2893],\n       [ 397,  670,  457, ..., 3068, 3579, 3203]], dtype=int16)"
     },
     "execution_count": 9,
     "metadata": {},
     "output_type": "execute_result"
    }
   ],
   "source": [
    "train = np.transpose(rat[1:9], (1, 2, 0))\n",
    "train = train.reshape(-1, 8)\n",
    "train"
   ],
   "metadata": {
    "collapsed": false,
    "pycharm": {
     "name": "#%%\n"
    }
   }
  },
  {
   "cell_type": "code",
   "execution_count": 10,
   "outputs": [
    {
     "data": {
      "text/plain": "         B1    B2    B3    B4    B5    B6    B7    B8\n0       769  1200  1192  1784  2178  2284  2383  2270\n1       669  1084   832  1762  2207  2326  2279  2265\n2       663  1133   782  1732  2248  2384  2204  2258\n3       647  1095   732  1732  2248  2384  2148  2258\n4       671  1083   944  1711  1981  2205  2187  2143\n...     ...   ...   ...   ...   ...   ...   ...   ...\n964319  533   821   814  1252  1817  2056  1574  2095\n964320  667   990  1089  1321  1747  1957  1809  2138\n964321  710  1001  1134  1325  1748  1958  1959  2138\n964322  547   819   780  1184  2303  2744  2690  2893\n964323  397   670   457  1123  2532  3068  3579  3203\n\n[964324 rows x 8 columns]",
      "text/html": "<div>\n<style scoped>\n    .dataframe tbody tr th:only-of-type {\n        vertical-align: middle;\n    }\n\n    .dataframe tbody tr th {\n        vertical-align: top;\n    }\n\n    .dataframe thead th {\n        text-align: right;\n    }\n</style>\n<table border=\"1\" class=\"dataframe\">\n  <thead>\n    <tr style=\"text-align: right;\">\n      <th></th>\n      <th>B1</th>\n      <th>B2</th>\n      <th>B3</th>\n      <th>B4</th>\n      <th>B5</th>\n      <th>B6</th>\n      <th>B7</th>\n      <th>B8</th>\n    </tr>\n  </thead>\n  <tbody>\n    <tr>\n      <th>0</th>\n      <td>769</td>\n      <td>1200</td>\n      <td>1192</td>\n      <td>1784</td>\n      <td>2178</td>\n      <td>2284</td>\n      <td>2383</td>\n      <td>2270</td>\n    </tr>\n    <tr>\n      <th>1</th>\n      <td>669</td>\n      <td>1084</td>\n      <td>832</td>\n      <td>1762</td>\n      <td>2207</td>\n      <td>2326</td>\n      <td>2279</td>\n      <td>2265</td>\n    </tr>\n    <tr>\n      <th>2</th>\n      <td>663</td>\n      <td>1133</td>\n      <td>782</td>\n      <td>1732</td>\n      <td>2248</td>\n      <td>2384</td>\n      <td>2204</td>\n      <td>2258</td>\n    </tr>\n    <tr>\n      <th>3</th>\n      <td>647</td>\n      <td>1095</td>\n      <td>732</td>\n      <td>1732</td>\n      <td>2248</td>\n      <td>2384</td>\n      <td>2148</td>\n      <td>2258</td>\n    </tr>\n    <tr>\n      <th>4</th>\n      <td>671</td>\n      <td>1083</td>\n      <td>944</td>\n      <td>1711</td>\n      <td>1981</td>\n      <td>2205</td>\n      <td>2187</td>\n      <td>2143</td>\n    </tr>\n    <tr>\n      <th>...</th>\n      <td>...</td>\n      <td>...</td>\n      <td>...</td>\n      <td>...</td>\n      <td>...</td>\n      <td>...</td>\n      <td>...</td>\n      <td>...</td>\n    </tr>\n    <tr>\n      <th>964319</th>\n      <td>533</td>\n      <td>821</td>\n      <td>814</td>\n      <td>1252</td>\n      <td>1817</td>\n      <td>2056</td>\n      <td>1574</td>\n      <td>2095</td>\n    </tr>\n    <tr>\n      <th>964320</th>\n      <td>667</td>\n      <td>990</td>\n      <td>1089</td>\n      <td>1321</td>\n      <td>1747</td>\n      <td>1957</td>\n      <td>1809</td>\n      <td>2138</td>\n    </tr>\n    <tr>\n      <th>964321</th>\n      <td>710</td>\n      <td>1001</td>\n      <td>1134</td>\n      <td>1325</td>\n      <td>1748</td>\n      <td>1958</td>\n      <td>1959</td>\n      <td>2138</td>\n    </tr>\n    <tr>\n      <th>964322</th>\n      <td>547</td>\n      <td>819</td>\n      <td>780</td>\n      <td>1184</td>\n      <td>2303</td>\n      <td>2744</td>\n      <td>2690</td>\n      <td>2893</td>\n    </tr>\n    <tr>\n      <th>964323</th>\n      <td>397</td>\n      <td>670</td>\n      <td>457</td>\n      <td>1123</td>\n      <td>2532</td>\n      <td>3068</td>\n      <td>3579</td>\n      <td>3203</td>\n    </tr>\n  </tbody>\n</table>\n<p>964324 rows × 8 columns</p>\n</div>"
     },
     "execution_count": 10,
     "metadata": {},
     "output_type": "execute_result"
    }
   ],
   "source": [
    "X = pd.DataFrame(train, columns=['B' + str(i) for i in range(1, 8)] + ['B8'])"
   ],
   "metadata": {
    "collapsed": false,
    "pycharm": {
     "name": "#%%\n"
    }
   }
  },
  {
   "cell_type": "code",
   "execution_count": 11,
   "outputs": [
    {
     "data": {
      "text/plain": "         B1    B2    B3    B4    B5    B6    B7    B8\n0       769  1200  1192  1784  2178  2284  2383  2270\n1       669  1084   832  1762  2207  2326  2279  2265\n2       663  1133   782  1732  2248  2384  2204  2258\n3       647  1095   732  1732  2248  2384  2148  2258\n4       671  1083   944  1711  1981  2205  2187  2143\n...     ...   ...   ...   ...   ...   ...   ...   ...\n964319  533   821   814  1252  1817  2056  1574  2095\n964320  667   990  1089  1321  1747  1957  1809  2138\n964321  710  1001  1134  1325  1748  1958  1959  2138\n964322  547   819   780  1184  2303  2744  2690  2893\n964323  397   670   457  1123  2532  3068  3579  3203\n\n[964324 rows x 8 columns]",
      "text/html": "<div>\n<style scoped>\n    .dataframe tbody tr th:only-of-type {\n        vertical-align: middle;\n    }\n\n    .dataframe tbody tr th {\n        vertical-align: top;\n    }\n\n    .dataframe thead th {\n        text-align: right;\n    }\n</style>\n<table border=\"1\" class=\"dataframe\">\n  <thead>\n    <tr style=\"text-align: right;\">\n      <th></th>\n      <th>B1</th>\n      <th>B2</th>\n      <th>B3</th>\n      <th>B4</th>\n      <th>B5</th>\n      <th>B6</th>\n      <th>B7</th>\n      <th>B8</th>\n    </tr>\n  </thead>\n  <tbody>\n    <tr>\n      <th>0</th>\n      <td>769</td>\n      <td>1200</td>\n      <td>1192</td>\n      <td>1784</td>\n      <td>2178</td>\n      <td>2284</td>\n      <td>2383</td>\n      <td>2270</td>\n    </tr>\n    <tr>\n      <th>1</th>\n      <td>669</td>\n      <td>1084</td>\n      <td>832</td>\n      <td>1762</td>\n      <td>2207</td>\n      <td>2326</td>\n      <td>2279</td>\n      <td>2265</td>\n    </tr>\n    <tr>\n      <th>2</th>\n      <td>663</td>\n      <td>1133</td>\n      <td>782</td>\n      <td>1732</td>\n      <td>2248</td>\n      <td>2384</td>\n      <td>2204</td>\n      <td>2258</td>\n    </tr>\n    <tr>\n      <th>3</th>\n      <td>647</td>\n      <td>1095</td>\n      <td>732</td>\n      <td>1732</td>\n      <td>2248</td>\n      <td>2384</td>\n      <td>2148</td>\n      <td>2258</td>\n    </tr>\n    <tr>\n      <th>4</th>\n      <td>671</td>\n      <td>1083</td>\n      <td>944</td>\n      <td>1711</td>\n      <td>1981</td>\n      <td>2205</td>\n      <td>2187</td>\n      <td>2143</td>\n    </tr>\n    <tr>\n      <th>...</th>\n      <td>...</td>\n      <td>...</td>\n      <td>...</td>\n      <td>...</td>\n      <td>...</td>\n      <td>...</td>\n      <td>...</td>\n      <td>...</td>\n    </tr>\n    <tr>\n      <th>964319</th>\n      <td>533</td>\n      <td>821</td>\n      <td>814</td>\n      <td>1252</td>\n      <td>1817</td>\n      <td>2056</td>\n      <td>1574</td>\n      <td>2095</td>\n    </tr>\n    <tr>\n      <th>964320</th>\n      <td>667</td>\n      <td>990</td>\n      <td>1089</td>\n      <td>1321</td>\n      <td>1747</td>\n      <td>1957</td>\n      <td>1809</td>\n      <td>2138</td>\n    </tr>\n    <tr>\n      <th>964321</th>\n      <td>710</td>\n      <td>1001</td>\n      <td>1134</td>\n      <td>1325</td>\n      <td>1748</td>\n      <td>1958</td>\n      <td>1959</td>\n      <td>2138</td>\n    </tr>\n    <tr>\n      <th>964322</th>\n      <td>547</td>\n      <td>819</td>\n      <td>780</td>\n      <td>1184</td>\n      <td>2303</td>\n      <td>2744</td>\n      <td>2690</td>\n      <td>2893</td>\n    </tr>\n    <tr>\n      <th>964323</th>\n      <td>397</td>\n      <td>670</td>\n      <td>457</td>\n      <td>1123</td>\n      <td>2532</td>\n      <td>3068</td>\n      <td>3579</td>\n      <td>3203</td>\n    </tr>\n  </tbody>\n</table>\n<p>964324 rows × 8 columns</p>\n</div>"
     },
     "execution_count": 11,
     "metadata": {},
     "output_type": "execute_result"
    }
   ],
   "source": [
    "imgpath2 = r\"./训练数据/GEE_0615_clip_982.tif\"  # 路径\n",
    "# 打开文件 rasterio.io.DatasetReader,包含了栅格的所有信息\n",
    "src2 = rasterio.open(imgpath2)\n",
    "rat2 = src2.read()\n",
    "train2 = np.transpose(rat2[1:9], (1, 2, 0))\n",
    "train2 = train.reshape(-1, 8)\n",
    "df = pd.DataFrame(train2, columns=['B' + str(i) for i in range(1, 8)] + ['B8'])\n",
    "df"
   ],
   "metadata": {
    "collapsed": false,
    "pycharm": {
     "name": "#%%\n"
    }
   }
  },
  {
   "cell_type": "code",
   "execution_count": 15,
   "outputs": [
    {
     "data": {
      "text/plain": "         B1    B2    B3    B4    B5    B6    B7    B8\n0       769  1200  1192  1784  2178  2284  2383  2270\n1       669  1084   832  1762  2207  2326  2279  2265\n2       663  1133   782  1732  2248  2384  2204  2258\n3       647  1095   732  1732  2248  2384  2148  2258\n4       671  1083   944  1711  1981  2205  2187  2143\n...     ...   ...   ...   ...   ...   ...   ...   ...\n964319  533   821   814  1252  1817  2056  1574  2095\n964320  667   990  1089  1321  1747  1957  1809  2138\n964321  710  1001  1134  1325  1748  1958  1959  2138\n964322  547   819   780  1184  2303  2744  2690  2893\n964323  397   670   457  1123  2532  3068  3579  3203\n\n[1928648 rows x 8 columns]",
      "text/html": "<div>\n<style scoped>\n    .dataframe tbody tr th:only-of-type {\n        vertical-align: middle;\n    }\n\n    .dataframe tbody tr th {\n        vertical-align: top;\n    }\n\n    .dataframe thead th {\n        text-align: right;\n    }\n</style>\n<table border=\"1\" class=\"dataframe\">\n  <thead>\n    <tr style=\"text-align: right;\">\n      <th></th>\n      <th>B1</th>\n      <th>B2</th>\n      <th>B3</th>\n      <th>B4</th>\n      <th>B5</th>\n      <th>B6</th>\n      <th>B7</th>\n      <th>B8</th>\n    </tr>\n  </thead>\n  <tbody>\n    <tr>\n      <th>0</th>\n      <td>769</td>\n      <td>1200</td>\n      <td>1192</td>\n      <td>1784</td>\n      <td>2178</td>\n      <td>2284</td>\n      <td>2383</td>\n      <td>2270</td>\n    </tr>\n    <tr>\n      <th>1</th>\n      <td>669</td>\n      <td>1084</td>\n      <td>832</td>\n      <td>1762</td>\n      <td>2207</td>\n      <td>2326</td>\n      <td>2279</td>\n      <td>2265</td>\n    </tr>\n    <tr>\n      <th>2</th>\n      <td>663</td>\n      <td>1133</td>\n      <td>782</td>\n      <td>1732</td>\n      <td>2248</td>\n      <td>2384</td>\n      <td>2204</td>\n      <td>2258</td>\n    </tr>\n    <tr>\n      <th>3</th>\n      <td>647</td>\n      <td>1095</td>\n      <td>732</td>\n      <td>1732</td>\n      <td>2248</td>\n      <td>2384</td>\n      <td>2148</td>\n      <td>2258</td>\n    </tr>\n    <tr>\n      <th>4</th>\n      <td>671</td>\n      <td>1083</td>\n      <td>944</td>\n      <td>1711</td>\n      <td>1981</td>\n      <td>2205</td>\n      <td>2187</td>\n      <td>2143</td>\n    </tr>\n    <tr>\n      <th>...</th>\n      <td>...</td>\n      <td>...</td>\n      <td>...</td>\n      <td>...</td>\n      <td>...</td>\n      <td>...</td>\n      <td>...</td>\n      <td>...</td>\n    </tr>\n    <tr>\n      <th>964319</th>\n      <td>533</td>\n      <td>821</td>\n      <td>814</td>\n      <td>1252</td>\n      <td>1817</td>\n      <td>2056</td>\n      <td>1574</td>\n      <td>2095</td>\n    </tr>\n    <tr>\n      <th>964320</th>\n      <td>667</td>\n      <td>990</td>\n      <td>1089</td>\n      <td>1321</td>\n      <td>1747</td>\n      <td>1957</td>\n      <td>1809</td>\n      <td>2138</td>\n    </tr>\n    <tr>\n      <th>964321</th>\n      <td>710</td>\n      <td>1001</td>\n      <td>1134</td>\n      <td>1325</td>\n      <td>1748</td>\n      <td>1958</td>\n      <td>1959</td>\n      <td>2138</td>\n    </tr>\n    <tr>\n      <th>964322</th>\n      <td>547</td>\n      <td>819</td>\n      <td>780</td>\n      <td>1184</td>\n      <td>2303</td>\n      <td>2744</td>\n      <td>2690</td>\n      <td>2893</td>\n    </tr>\n    <tr>\n      <th>964323</th>\n      <td>397</td>\n      <td>670</td>\n      <td>457</td>\n      <td>1123</td>\n      <td>2532</td>\n      <td>3068</td>\n      <td>3579</td>\n      <td>3203</td>\n    </tr>\n  </tbody>\n</table>\n<p>1928648 rows × 8 columns</p>\n</div>"
     },
     "execution_count": 15,
     "metadata": {},
     "output_type": "execute_result"
    }
   ],
   "source": [
    "data = pd.concat([X, df])\n",
    "data"
   ],
   "metadata": {
    "collapsed": false,
    "pycharm": {
     "name": "#%%\n"
    }
   }
  },
  {
   "cell_type": "code",
   "execution_count": null,
   "outputs": [],
   "source": [],
   "metadata": {
    "collapsed": false,
    "pycharm": {
     "name": "#%%\n"
    }
   }
  },
  {
   "cell_type": "code",
   "execution_count": 17,
   "outputs": [
    {
     "data": {
      "text/plain": "'2022-05-06_QJS2DL'"
     },
     "execution_count": 17,
     "metadata": {},
     "output_type": "execute_result"
    }
   ],
   "source": [
    "\n",
    "file_name = '2022-05-06_QJS2DL.tif'\n",
    "name = file_name.split('.')\n",
    "name[0]"
   ],
   "metadata": {
    "collapsed": false,
    "pycharm": {
     "name": "#%%\n"
    }
   }
  },
  {
   "cell_type": "code",
   "execution_count": 20,
   "outputs": [],
   "source": [
    "import time"
   ],
   "metadata": {
    "collapsed": false,
    "pycharm": {
     "name": "#%%\n"
    }
   }
  },
  {
   "cell_type": "code",
   "execution_count": 21,
   "outputs": [
    {
     "data": {
      "text/plain": "'230910'"
     },
     "execution_count": 21,
     "metadata": {},
     "output_type": "execute_result"
    }
   ],
   "source": [
    "mdhms = time.strftime('%d%H%M', time.localtime(time.time()))\n",
    "mdhms"
   ],
   "metadata": {
    "collapsed": false,
    "pycharm": {
     "name": "#%%\n"
    }
   }
  },
  {
   "cell_type": "code",
   "execution_count": 30,
   "outputs": [
    {
     "data": {
      "text/plain": "'PROJCS[\"WGS 84 / UTM zone 50N\",GEOGCS[\"WGS 84\",DATUM[\"WGS_1984\",SPHEROID[\"WGS 84\",6378137,298.257223563,AUTHORITY[\"EPSG\",\"7030\"]],AUTHORITY[\"EPSG\",\"6326\"]],PRIMEM[\"Greenwich\",0,AUTHORITY[\"EPSG\",\"8901\"]],UNIT[\"degree\",0.0174532925199433,AUTHORITY[\"EPSG\",\"9122\"]],AUTHORITY[\"EPSG\",\"4326\"]],PROJECTION[\"Transverse_Mercator\"],PARAMETER[\"latitude_of_origin\",0],PARAMETER[\"central_meridian\",117],PARAMETER[\"scale_factor\",0.9996],PARAMETER[\"false_easting\",500000],PARAMETER[\"false_northing\",0],UNIT[\"metre\",1,AUTHORITY[\"EPSG\",\"9001\"]],AXIS[\"Easting\",EAST],AXIS[\"Northing\",NORTH],AUTHORITY[\"EPSG\",\"32650\"]]'"
     },
     "execution_count": 30,
     "metadata": {},
     "output_type": "execute_result"
    }
   ],
   "source": [
    "imgpath = r'E:\\Desktop\\20220913-20220916-0919-0923\\20220916-0921\\Sklearn回归模型规整\\投影\\2022-05-06_QJS2DL.tif'\n",
    "src0 = gdal.Open(imgpath)\n",
    "# 获取TIFF的范围信息\n",
    "src0.GetProjection()\n",
    "# srs.SetUTM(11, 1)"
   ],
   "metadata": {
    "collapsed": false,
    "pycharm": {
     "name": "#%%\n"
    }
   }
  },
  {
   "cell_type": "code",
   "execution_count": 29,
   "outputs": [
    {
     "data": {
      "text/plain": "(1076350.853198954, 10.0, 0.0, 3567604.9181152456, 0.0, -10.0)"
     },
     "execution_count": 29,
     "metadata": {},
     "output_type": "execute_result"
    }
   ],
   "source": [
    "adfGeoTransform1 = (1076350.853198954, 10.0, 0.0, 3567604.9181152456, 0.0, -10.0)\n",
    "adfGeoTransform1"
   ],
   "metadata": {
    "collapsed": false,
    "pycharm": {
     "name": "#%%\n"
    }
   }
  },
  {
   "cell_type": "code",
   "execution_count": 27,
   "outputs": [
    {
     "data": {
      "text/plain": "1076350.853198954"
     },
     "execution_count": 27,
     "metadata": {},
     "output_type": "execute_result"
    }
   ],
   "source": [
    "576350.8531989538 + 500000"
   ],
   "metadata": {
    "collapsed": false,
    "pycharm": {
     "name": "#%%\n"
    }
   }
  },
  {
   "cell_type": "code",
   "execution_count": 31,
   "outputs": [
    {
     "data": {
      "text/plain": "6"
     },
     "execution_count": 31,
     "metadata": {},
     "output_type": "execute_result"
    }
   ],
   "source": [
    "srs = osr.SpatialReference()\n",
    "# srs.SetProjection(src0.GetProjection())\n",
    "srs.SetUTM(117, 1)"
   ],
   "metadata": {
    "collapsed": false,
    "pycharm": {
     "name": "#%%\n"
    }
   }
  },
  {
   "cell_type": "code",
   "execution_count": 32,
   "outputs": [
    {
     "data": {
      "text/plain": "0"
     },
     "execution_count": 32,
     "metadata": {},
     "output_type": "execute_result"
    }
   ],
   "source": [
    "srs.SetWellKnownGeogCS( 'NAD27' )"
   ],
   "metadata": {
    "collapsed": false,
    "pycharm": {
     "name": "#%%\n"
    }
   }
  },
  {
   "cell_type": "code",
   "execution_count": null,
   "outputs": [],
   "source": [
    "srs.ExportToWkt()"
   ],
   "metadata": {
    "collapsed": false,
    "pycharm": {
     "name": "#%%\n"
    }
   }
  },
  {
   "cell_type": "code",
   "execution_count": 10,
   "outputs": [
    {
     "data": {
      "text/plain": "array([], shape=(982, 982, 0), dtype=float32)"
     },
     "execution_count": 10,
     "metadata": {},
     "output_type": "execute_result"
    }
   ],
   "source": [
    "import rasterio\n",
    "from osgeo import gdal\n",
    "import numpy as np\n",
    "from osgeo import osr\n",
    "imgpath = r\"./重采样LAI数据/LAI_img_0615_clip_982.tif\"\n",
    "src1 = rasterio.open(imgpath)\n",
    "rat = src1.read()\n",
    "train = np.transpose(rat[1:9], (1, 2, 0))\n",
    "# train = train.reshape(-1, 8)\n",
    "train"
   ],
   "metadata": {
    "collapsed": false,
    "pycharm": {
     "name": "#%%\n"
    }
   }
  },
  {
   "cell_type": "code",
   "execution_count": 12,
   "outputs": [
    {
     "name": "stdout",
     "output_type": "stream",
     "text": [
      "[[[ 0  1]\n",
      "  [ 2  3]\n",
      "  [ 4  5]]\n",
      "\n",
      " [[ 6  7]\n",
      "  [ 8  9]\n",
      "  [10 11]]\n",
      "\n",
      " [[12 13]\n",
      "  [14 15]\n",
      "  [16 17]]\n",
      "\n",
      " [[18 19]\n",
      "  [20 21]\n",
      "  [22 23]]]\n"
     ]
    }
   ],
   "source": [
    "A = np.reshape(np.arange(24),(4,3,2)) ##生成一个数值从0到23，维度为（4,3,2）的数组\n",
    "print(A)"
   ],
   "metadata": {
    "collapsed": false,
    "pycharm": {
     "name": "#%%\n"
    }
   }
  },
  {
   "cell_type": "code",
   "execution_count": 13,
   "outputs": [
    {
     "name": "stdout",
     "output_type": "stream",
     "text": [
      "A的维度： (4, 3, 2)\n"
     ]
    }
   ],
   "source": [
    "print('A的维度：',A.shape)"
   ],
   "metadata": {
    "collapsed": false,
    "pycharm": {
     "name": "#%%\n"
    }
   }
  },
  {
   "cell_type": "code",
   "execution_count": 19,
   "outputs": [
    {
     "name": "stdout",
     "output_type": "stream",
     "text": [
      "[[ 0  1  2  3  4  5  6  7  8  9 10 11]\n",
      " [12 13 14 15 16 17 18 19 20 21 22 23]]\n"
     ]
    }
   ],
   "source": [
    "B = np.reshape(A,(-1,12))\n",
    "print(B)"
   ],
   "metadata": {
    "collapsed": false,
    "pycharm": {
     "name": "#%%\n"
    }
   }
  },
  {
   "cell_type": "code",
   "execution_count": 20,
   "outputs": [
    {
     "name": "stdout",
     "output_type": "stream",
     "text": [
      "B的维度： (2, 12)\n"
     ]
    }
   ],
   "source": [
    "print('B的维度：',B.shape)"
   ],
   "metadata": {
    "collapsed": false,
    "pycharm": {
     "name": "#%%\n"
    }
   }
  },
  {
   "cell_type": "code",
   "execution_count": null,
   "outputs": [],
   "source": [],
   "metadata": {
    "collapsed": false,
    "pycharm": {
     "name": "#%%\n"
    }
   }
  },
  {
   "cell_type": "code",
   "execution_count": null,
   "outputs": [],
   "source": [],
   "metadata": {
    "collapsed": false,
    "pycharm": {
     "name": "#%%\n"
    }
   }
  },
  {
   "cell_type": "code",
   "execution_count": null,
   "outputs": [],
   "source": [],
   "metadata": {
    "collapsed": false,
    "pycharm": {
     "name": "#%%\n"
    }
   }
  },
  {
   "cell_type": "code",
   "execution_count": null,
   "outputs": [],
   "source": [],
   "metadata": {
    "collapsed": false,
    "pycharm": {
     "name": "#%%\n"
    }
   }
  },
  {
   "cell_type": "code",
   "execution_count": null,
   "outputs": [],
   "source": [],
   "metadata": {
    "collapsed": false,
    "pycharm": {
     "name": "#%%\n"
    }
   }
  },
  {
   "cell_type": "code",
   "execution_count": null,
   "outputs": [],
   "source": [],
   "metadata": {
    "collapsed": false,
    "pycharm": {
     "name": "#%%\n"
    }
   }
  },
  {
   "cell_type": "code",
   "execution_count": null,
   "outputs": [],
   "source": [],
   "metadata": {
    "collapsed": false,
    "pycharm": {
     "name": "#%%\n"
    }
   }
  }
 ],
 "metadata": {
  "kernelspec": {
   "display_name": "Python 3",
   "language": "python",
   "name": "python3"
  },
  "language_info": {
   "codemirror_mode": {
    "name": "ipython",
    "version": 2
   },
   "file_extension": ".py",
   "mimetype": "text/x-python",
   "name": "python",
   "nbconvert_exporter": "python",
   "pygments_lexer": "ipython2",
   "version": "2.7.6"
  }
 },
 "nbformat": 4,
 "nbformat_minor": 0
}